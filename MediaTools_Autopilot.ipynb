{
 "cells": [
  {
   "cell_type": "markdown",
   "id": "04a5f44d",
   "metadata": {},
   "source": [
    "# 📹 MediaTools Autopilot (TikTok + Instagram Viral Pipeline)\n",
    "Automated clip factory for safe viral content.\n",
    "\n",
    "Steps:\n",
    "0. Install dependencies\n",
    "1. Mount Google Drive\n",
    "2. Configure settings + sources\n",
    "3. Prepare folders\n",
    "4. Download videos\n",
    "5. Cut clips (22–32s)\n",
    "6. Subtitles (viral style)\n",
    "7. Watermark (logo + handle)\n",
    "8. Captions + hashtags\n",
    "9. Save/Export"
   ]
  },
  {
   "cell_type": "code",
   "execution_count": null,
   "id": "fdfaa80d",
   "metadata": {},
   "outputs": [],
   "source": [
    "# STEP 0 — Install dependencies\n",
    "!apt-get -y update >/dev/null\n",
    "!apt-get -y install ffmpeg >/dev/null\n",
    "!pip -q install yt-dlp ffmpeg-python openai-whisper srt numpy pandas >/dev/null\n",
    "print('✅ Dependencies installed')"
   ]
  },
  {
   "cell_type": "code",
   "execution_count": null,
   "id": "68dbe639",
   "metadata": {},
   "outputs": [],
   "source": [
    "# STEP 1 — Mount Google Drive\n",
    "from google.colab import drive\n",
    "drive.mount('/content/drive')\n",
    "print('✅ Drive mounted')"
   ]
  },
  {
   "cell_type": "code",
   "execution_count": null,
   "id": "5969393f",
   "metadata": {},
   "outputs": [],
   "source": [
    "# STEP 2 — Settings + Safe Sources\n",
    "HANDLE='@thedronemenace'\n",
    "OUTPUT_DIR='Autopost_Clips'\n",
    "CLIPS_PER_RUN=10\n",
    "MIN_CLIP_SEC=22\n",
    "MAX_CLIP_SEC=32\n",
    "USE_LOGO=True\n",
    "LOGO_PATH='/content/drive/MyDrive/Autopost_Clips/assets/logo.png'\n",
    "LOGO_POS='bottom-right'\n",
    "LOGO_WIDTH=220\n",
    "SOURCES=[\n",
    " 'https://www.youtube.com/@PowerfulJRE/videos',\n",
    " 'https://www.youtube.com/@lexfridman/videos',\n",
    " 'https://www.youtube.com/@theDiaryOfACEO/videos',\n",
    " 'https://www.youtube.com/@stanfordgsb/videos',\n",
    " 'https://www.youtube.com/@TED/videos',\n",
    " 'https://www.youtube.com/@UniversityofOxford/videos']\n",
    "print('✅ Settings loaded')"
   ]
  },
  {
   "cell_type": "code",
   "execution_count": null,
   "id": "3253ab42",
   "metadata": {},
   "outputs": [],
   "source": [
    "# STEP 3 — Prepare folders\n",
    "import os\n",
    "WORK='/content/work'; RAW=os.path.join(WORK,'raw'); CUT=os.path.join(WORK,'cut'); SUBS=os.path.join(WORK,'subs'); OUT='/content/drive/MyDrive/'+OUTPUT_DIR\n",
    "for d in (WORK,RAW,CUT,SUBS,OUT): os.makedirs(d,exist_ok=True)\n",
    "print('✅ Folders ready')"
   ]
  },
  {
   "cell_type": "code",
   "execution_count": null,
   "id": "8703c195",
   "metadata": {},
   "outputs": [],
   "source": [
    "# STEP 4 — Download recent videos\n",
    "import subprocess\n",
    "from glob import glob\n",
    "MAX_VIDS_PER_SOURCE=3\n",
    "def download_from_source(url):\n",
    "    cmd=['yt-dlp','--no-warnings','--ignore-errors','--dateafter','now-1month','-f','bv*[ext=mp4]+ba[ext=m4a]/b[ext=mp4]/b','-o',os.path.join(RAW,'%(uploader)s__%(title).80B__%(id)s.%(ext)s'),'--max-downloads',str(MAX_VIDS_PER_SOURCE),url]\n",
    "    subprocess.run(cmd,check=False)\n",
    "for src in SOURCES: download_from_source(src)\n",
    "raw_files=sorted(glob(os.path.join(RAW,'*.mp4')))\n",
    "print('✅ Raw videos:',len(raw_files))"
   ]
  },
  {
   "cell_type": "code",
   "execution_count": null,
   "id": "c9db6a7d",
   "metadata": {},
   "outputs": [],
   "source": [
    "# STEP 5 — Cut clips (22–32s)\n",
    "import json,random\n",
    "def get_duration(path):\n",
    "    cmd=['ffprobe','-v','error','-print_format','json','-show_format','-show_streams',path]\n",
    "    out=subprocess.check_output(cmd).decode('utf-8','ignore')\n",
    "    return float(json.loads(out)['format']['duration'])\n",
    "def pick_segment(duration,min_sec,max_sec):\n",
    "    length=random.randint(min_sec,max_sec)\n",
    "    if duration<=length+2: return 0,max(5,min(duration-1,length))\n",
    "    start=random.uniform(0,max(0,duration-length-1)); return start,length\n",
    "made=0; random.shuffle(raw_files)\n",
    "for src in raw_files:\n",
    "  if made>=CLIPS_PER_RUN: break\n",
    "  dur=get_duration(src); ss,ll=pick_segment(dur,MIN_CLIP_SEC,MAX_CLIP_SEC)\n",
    "  base=os.path.splitext(os.path.basename(src))[0]; cut_path=os.path.join(CUT,base+'__clip.mp4')\n",
    "  subprocess.run(['ffmpeg','-ss',str(ss),'-t',str(ll),'-i',src,'-c:v','libx264','-preset','veryfast','-crf','23','-c:a','aac','-y',cut_path],check=False)\n",
    "  if os.path.exists(cut_path): print('✔ Cut',cut_path); made+=1\n",
    "print('✅ Total cuts',made)"
   ]
  },
  {
   "cell_type": "code",
   "execution_count": null,
   "id": "afa918c1",
   "metadata": {},
   "outputs": [],
   "source": [
    "# STEP 6 — Subtitles (viral style)\n",
    "import whisper,srt,datetime as dt\n",
    "model=whisper.load_model('small')\n",
    "cut_files=sorted(glob(os.path.join(CUT,'*.mp4')))\n",
    "for cut in cut_files:\n",
    "  base=os.path.splitext(os.path.basename(cut))[0]; srt_path=os.path.join(SUBS,base+'.srt')\n",
    "  result=model.transcribe(cut,fp16=False,language='en')\n",
    "  subs=[]\n",
    "  for i,seg in enumerate(result.get('segments',[])):\n",
    "    start=dt.timedelta(seconds=max(seg.get('start',0),0)); end=dt.timedelta(seconds=max(seg.get('end',0),0)); text=str(seg.get('text','')).strip()\n",
    "    subs.append(srt.Subtitle(index=i+1,start=start,end=end,content=text))\n",
    "  with open(srt_path,'w') as f: f.write(srt.compose(subs))\n",
    "  print('✔ Subtitles saved',srt_path)"
   ]
  },
  {
   "cell_type": "code",
   "execution_count": null,
   "id": "ea644e94",
   "metadata": {},
   "outputs": [],
   "source": [
    "# STEP 7 — Watermark (logo + handle)\n",
    "for cut in cut_files:\n",
    "  base=os.path.splitext(os.path.basename(cut))[0]; srt_path=os.path.join(SUBS,base+'.srt'); out_path=os.path.join(OUT,base+'_final.mp4')\n",
    "  filter_chain=f\"subtitles='{srt_path}':force_style='FontName=DejaVuSans-Bold,Fontsize=28,Outline=2,Shadow=1'\"\n",
    "  filter_chain+=f\",drawtext=text='{HANDLE}':x=20:y=20:fontsize=24:fontcolor=white:borderw=2\"\n",
    "  if USE_LOGO and os.path.exists(LOGO_PATH): filter_chain+=f\",movie={LOGO_PATH}[logo];[in][logo]overlay=W-w-20:H-h-20\"\n",
    "  subprocess.run(['ffmpeg','-i',cut,'-vf',filter_chain,'-c:a','copy','-y',out_path],check=False)\n",
    "  print('✔ Watermarked',out_path)"
   ]
  },
  {
   "cell_type": "code",
   "execution_count": null,
   "id": "8be93b9e",
   "metadata": {},
   "outputs": [],
   "source": [
    "# STEP 8 — Captions + hashtags\n",
    "HOOKS=['Would you dare this? 👀','This blew my mind 🤯','Wait till the end 👇','They didn’t want you to see this 👀🔥','The truth nobody is showing you 😳','Caught on camera… 👁️','Don’t blink or you’ll miss it 👇']\n",
    "HASHTAGS_TT=[['#fyp','#viral','#trending','#xyzbca','#foryou'],['#mustwatch','#clips','#tiktokviral','#funnyvideo','#reels'],['#storytime','#motivation','#wow','#viralvideo','#crazy']]\n",
    "HASHTAGS_IG=[['#fyp #viral #trending #explorepage #instagramreels #foryou #mustwatch #viralvideo #funnyreels #sharethis #crazyclip #entertainment #wow #epic #insane #clipoftheday #dronevideo #dailyreels #watchnow #socialbuzz'],['#reelsinstagram #instagood #tiktokvideo #viralpost #discover #sharethisnow #funnyclips #epicmoments #viralmoment #mustsee #wild #crazyvideo #clipviral #reelsoftheday #shockfactor #entertainmenthub #trendingnow #insanemoments #exploremore #viralhub'],['#explorepage #viralclips #instagramviral #trendalert #mustwatchnow #viraltoday #crazyclipsoftheday #contentviral #socialtrend #omg #unreal #videoviral #shockvideo #dronefootage #clipcentral #epicreel #viralexplosion #watchthis #topclip #insanereel']]\n",
    "finals=sorted(glob(os.path.join(OUT,'*_final.mp4')))\n",
    "for vid in finals:\n",
    "  base=os.path.splitext(os.path.basename(vid))[0]; hook=random.choice(HOOKS); tt=random.choice(HASHTAGS_TT); ig=random.choice(HASHTAGS_IG)\n",
    "  caption=f\"{hook}\\n\\n{HANDLE}\\n\\nTikTok: {' '.join(tt)}\\n\\nInstagram: {ig[0]}\"\n",
    "  with open(os.path.join(OUT,base+'.txt'),'w') as f: f.write(caption)\n",
    "  print('✔ Caption file',base+'.txt')\n",
    "print('✅ All captions generated')"
   ]
  },
  {
   "cell_type": "code",
   "execution_count": null,
   "id": "dc4757fd",
   "metadata": {},
   "outputs": [],
   "source": [
    "# STEP 9 — Done\n",
    "print('🎉 Run complete! Files saved to',OUT)"
   ]
  }
 ],
 "metadata": {},
 "nbformat": 4,
 "nbformat_minor": 5
}
